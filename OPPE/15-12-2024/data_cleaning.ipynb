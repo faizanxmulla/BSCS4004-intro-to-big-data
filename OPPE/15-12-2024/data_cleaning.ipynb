{
 "cells": [
  {
   "cell_type": "code",
   "execution_count": 1,
   "metadata": {},
   "outputs": [],
   "source": [
    "import pandas as pd"
   ]
  },
  {
   "cell_type": "markdown",
   "metadata": {},
   "source": [
    "1. Load the dataset"
   ]
  },
  {
   "cell_type": "code",
   "execution_count": 2,
   "metadata": {},
   "outputs": [],
   "source": [
    "stock_data = pd.read_csv(\"all_companies_stock_data_combined.csv\")"
   ]
  },
  {
   "cell_type": "markdown",
   "metadata": {},
   "source": [
    "2. Handle Missing Values (Do not assume the data has no gaps in dates for each stock & date combination.)"
   ]
  },
  {
   "cell_type": "code",
   "execution_count": 3,
   "metadata": {},
   "outputs": [],
   "source": [
    "def percent_missing_data(data):\n",
    "    missing_count = data.isnull().sum().sort_values(ascending=False)\n",
    "    missing_percent = 100 * data.isnull().sum().sort_values(ascending=False) / len(data)\n",
    "\n",
    "    missing_count = pd.DataFrame(missing_count[missing_count > 0])\n",
    "    missing_percent = pd.DataFrame(missing_percent[missing_percent > 0])\n",
    "\n",
    "    missing_values_table = pd.concat([missing_count, missing_percent], axis=1)\n",
    "\n",
    "    missing_values_table.columns = [\"missing_count\", \"missing_percent\"]\n",
    "\n",
    "    print(\n",
    "        \"The dataset consists of {0} columns , out of which {1} have missing values.\".format(\n",
    "            data.shape[1], str(missing_values_table.shape[0])\n",
    "        )\n",
    "    )\n",
    "\n",
    "    return missing_values_table"
   ]
  },
  {
   "cell_type": "code",
   "execution_count": 4,
   "metadata": {},
   "outputs": [
    {
     "name": "stdout",
     "output_type": "stream",
     "text": [
      "The dataset consists of 7 columns , out of which 5 have missing values.\n"
     ]
    },
    {
     "data": {
      "text/html": [
       "<div>\n",
       "<style scoped>\n",
       "    .dataframe tbody tr th:only-of-type {\n",
       "        vertical-align: middle;\n",
       "    }\n",
       "\n",
       "    .dataframe tbody tr th {\n",
       "        vertical-align: top;\n",
       "    }\n",
       "\n",
       "    .dataframe thead th {\n",
       "        text-align: right;\n",
       "    }\n",
       "</style>\n",
       "<table border=\"1\" class=\"dataframe\">\n",
       "  <thead>\n",
       "    <tr style=\"text-align: right;\">\n",
       "      <th></th>\n",
       "      <th>missing_count</th>\n",
       "      <th>missing_percent</th>\n",
       "    </tr>\n",
       "  </thead>\n",
       "  <tbody>\n",
       "    <tr>\n",
       "      <th>open</th>\n",
       "      <td>76795</td>\n",
       "      <td>0.21103</td>\n",
       "    </tr>\n",
       "    <tr>\n",
       "      <th>high</th>\n",
       "      <td>76795</td>\n",
       "      <td>0.21103</td>\n",
       "    </tr>\n",
       "    <tr>\n",
       "      <th>low</th>\n",
       "      <td>76795</td>\n",
       "      <td>0.21103</td>\n",
       "    </tr>\n",
       "    <tr>\n",
       "      <th>volume</th>\n",
       "      <td>76795</td>\n",
       "      <td>0.21103</td>\n",
       "    </tr>\n",
       "    <tr>\n",
       "      <th>close</th>\n",
       "      <td>76795</td>\n",
       "      <td>0.21103</td>\n",
       "    </tr>\n",
       "  </tbody>\n",
       "</table>\n",
       "</div>"
      ],
      "text/plain": [
       "        missing_count  missing_percent\n",
       "open            76795          0.21103\n",
       "high            76795          0.21103\n",
       "low             76795          0.21103\n",
       "volume          76795          0.21103\n",
       "close           76795          0.21103"
      ]
     },
     "execution_count": 4,
     "metadata": {},
     "output_type": "execute_result"
    }
   ],
   "source": [
    "percent_missing_data(stock_data)"
   ]
  },
  {
   "cell_type": "code",
   "execution_count": 5,
   "metadata": {},
   "outputs": [],
   "source": [
    "stock_data = stock_data.dropna()"
   ]
  },
  {
   "cell_type": "markdown",
   "metadata": {},
   "source": [
    "3. Handle Null Values"
   ]
  },
  {
   "cell_type": "code",
   "execution_count": 11,
   "metadata": {},
   "outputs": [
    {
     "name": "stdout",
     "output_type": "stream",
     "text": [
      "Rows removed with non-positive volume/close: 1426030\n"
     ]
    }
   ],
   "source": [
    "initial_rows = len(stock_data)\n",
    "\n",
    "stock_data = stock_data[(stock_data[\"volume\"] > 0) & (stock_data[\"close\"] > 0)]\n",
    "print(f\"Rows removed with non-positive volume/close: {initial_rows - len(stock_data)}\")\n"
   ]
  },
  {
   "cell_type": "markdown",
   "metadata": {},
   "source": [
    "4. Handling Datatypes"
   ]
  },
  {
   "cell_type": "code",
   "execution_count": 8,
   "metadata": {},
   "outputs": [],
   "source": [
    "stock_data[\"timestamp\"] = pd.to_datetime(stock_data[\"timestamp\"], errors=\"coerce\")"
   ]
  },
  {
   "cell_type": "markdown",
   "metadata": {},
   "source": [
    "5. Sorting Data (Do not assume the data files are sorted in ascending order by time)"
   ]
  },
  {
   "cell_type": "code",
   "execution_count": null,
   "metadata": {},
   "outputs": [],
   "source": [
    "stock_data = stock_data.sort_values(by=[\"timestamp\"])"
   ]
  },
  {
   "cell_type": "markdown",
   "metadata": {},
   "source": [
    "Save the Clean CSV file"
   ]
  },
  {
   "cell_type": "code",
   "execution_count": 14,
   "metadata": {},
   "outputs": [
    {
     "name": "stdout",
     "output_type": "stream",
     "text": [
      "Cleaned data saved to cleaned_stock_data.csv\n"
     ]
    }
   ],
   "source": [
    "stock_data.to_csv(\"cleaned_stock_data.csv\", index=False)\n",
    "print(\"Cleaned data saved to cleaned_stock_data.csv\")"
   ]
  }
 ],
 "metadata": {
  "kernelspec": {
   "display_name": "Python 3",
   "language": "python",
   "name": "python3"
  },
  "language_info": {
   "codemirror_mode": {
    "name": "ipython",
    "version": 3
   },
   "file_extension": ".py",
   "mimetype": "text/x-python",
   "name": "python",
   "nbconvert_exporter": "python",
   "pygments_lexer": "ipython3",
   "version": "3.12.6"
  }
 },
 "nbformat": 4,
 "nbformat_minor": 2
}
